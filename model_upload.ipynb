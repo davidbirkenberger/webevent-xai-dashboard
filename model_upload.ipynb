{
 "cells": [
  {
   "cell_type": "code",
   "execution_count": 9,
   "id": "e1a25667",
   "metadata": {},
   "outputs": [],
   "source": [
    "from huggingface_hub import create_repo, upload_folder, upload_file\n",
    "from datasets import Dataset, DatasetDict, load_from_disk"
   ]
  },
  {
   "cell_type": "code",
   "execution_count": 4,
   "id": "e47be921",
   "metadata": {},
   "outputs": [],
   "source": [
    "URL_CHECKPOINT_PATH = \"models/url_classifier\"\n",
    "BERT_CHECKPOINT_PATH = \"models/rifel_multilabel\"\n",
    "DATA_PATH = \"data/meta_title_description_combined_filtered\""
   ]
  },
  {
   "cell_type": "code",
   "execution_count": 5,
   "id": "59d2a82f",
   "metadata": {},
   "outputs": [
    {
     "name": "stderr",
     "output_type": "stream",
     "text": [
      "Creating parquet from Arrow format: 100%|██████████| 1/1 [00:00<00:00, 66.73ba/s]\n",
      "Uploading the dataset shards: 100%|██████████| 1/1 [00:03<00:00,  3.01s/ shards]\n",
      "Creating parquet from Arrow format: 100%|██████████| 1/1 [00:00<00:00, 439.61ba/s]\n",
      "Uploading the dataset shards: 100%|██████████| 1/1 [00:02<00:00,  2.64s/ shards]\n"
     ]
    },
    {
     "data": {
      "text/plain": [
       "CommitInfo(commit_url='https://huggingface.co/datasets/dkbirkenberger/rifel-urls-dataset/commit/7ce89bea1ce1ce6b03badb190365f5d12bb90a20', commit_message='Initial upload v0.1.0', commit_description='', oid='7ce89bea1ce1ce6b03badb190365f5d12bb90a20', pr_url=None, repo_url=RepoUrl('https://huggingface.co/datasets/dkbirkenberger/rifel-urls-dataset', endpoint='https://huggingface.co', repo_type='dataset', repo_id='dkbirkenberger/rifel-urls-dataset'), pr_revision=None, pr_num=None)"
      ]
     },
     "execution_count": 5,
     "metadata": {},
     "output_type": "execute_result"
    }
   ],
   "source": [
    "repo_id = \"dkbirkenberger/rifel-urls-dataset\"\n",
    "create_repo(repo_id, private=True, exist_ok=True)\n",
    "\n",
    "# Example: if you have disk dirs like data/train/ and data/test/\n",
    "dset = DatasetDict.load_from_disk(DATA_PATH)\n",
    "\n",
    "dset.push_to_hub(repo_id=repo_id, private=True, commit_message=\"Initial upload v0.1.0\")"
   ]
  },
  {
   "cell_type": "code",
   "execution_count": 7,
   "id": "7a30c404",
   "metadata": {},
   "outputs": [
    {
     "data": {
      "text/plain": [
       "CommitInfo(commit_url='https://huggingface.co/dkbirkenberger/multilabel-eventbert/commit/1883327fe909961bc4e708ed33d4825752f04ada', commit_message='init v0.1.0', commit_description='', oid='1883327fe909961bc4e708ed33d4825752f04ada', pr_url=None, repo_url=RepoUrl('https://huggingface.co/dkbirkenberger/multilabel-eventbert', endpoint='https://huggingface.co', repo_type='model', repo_id='dkbirkenberger/multilabel-eventbert'), pr_revision=None, pr_num=None)"
      ]
     },
     "execution_count": 7,
     "metadata": {},
     "output_type": "execute_result"
    }
   ],
   "source": [
    "repo_id = \"dkbirkenberger/multilabel-eventbert\"\n",
    "create_repo(repo_id, private=True, exist_ok=True)  # erstellt Repo, wenn nicht da\n",
    "upload_folder(repo_id=repo_id, folder_path=BERT_CHECKPOINT_PATH, commit_message=\"init v0.1.0\")"
   ]
  },
  {
   "cell_type": "code",
   "execution_count": 8,
   "id": "093f732b",
   "metadata": {},
   "outputs": [],
   "source": [
    "import json\n",
    "\n",
    "thresholds = [0.21, 0.76, 0.66, 0.21, 0.51, 0.11, 0.46, 0.11, 0.16, 0.26]\n",
    "\n",
    "with open(\"thresholds.json\", \"w\") as f:\n",
    "    json.dump(thresholds, f)"
   ]
  },
  {
   "cell_type": "code",
   "execution_count": 10,
   "id": "e33035c5",
   "metadata": {},
   "outputs": [
    {
     "data": {
      "text/plain": [
       "CommitInfo(commit_url='https://huggingface.co/dkbirkenberger/multilabel-eventbert/commit/892464f7be63b3d2b9e4c875e94a5438451894f8', commit_message='add thresholds v0.1.1', commit_description='', oid='892464f7be63b3d2b9e4c875e94a5438451894f8', pr_url=None, repo_url=RepoUrl('https://huggingface.co/dkbirkenberger/multilabel-eventbert', endpoint='https://huggingface.co', repo_type='model', repo_id='dkbirkenberger/multilabel-eventbert'), pr_revision=None, pr_num=None)"
      ]
     },
     "execution_count": 10,
     "metadata": {},
     "output_type": "execute_result"
    }
   ],
   "source": [
    "upload_file(\n",
    "    path_or_fileobj=\"models/rifel_multilabel/thresholds.json\",\n",
    "    path_in_repo=\"thresholds.json\",\n",
    "    repo_id=\"dkbirkenberger/multilabel-eventbert\",\n",
    "    commit_message=\"add thresholds v0.1.1\"\n",
    ")"
   ]
  },
  {
   "cell_type": "code",
   "execution_count": 11,
   "id": "94bf303d",
   "metadata": {},
   "outputs": [
    {
     "data": {
      "text/plain": [
       "CommitInfo(commit_url='https://huggingface.co/dkbirkenberger/url-relevance-classifier/commit/084d181eb2e846a752a1e0695d1ce3c1daa05791', commit_message='init v0.1.0', commit_description='', oid='084d181eb2e846a752a1e0695d1ce3c1daa05791', pr_url=None, repo_url=RepoUrl('https://huggingface.co/dkbirkenberger/url-relevance-classifier', endpoint='https://huggingface.co', repo_type='model', repo_id='dkbirkenberger/url-relevance-classifier'), pr_revision=None, pr_num=None)"
      ]
     },
     "execution_count": 11,
     "metadata": {},
     "output_type": "execute_result"
    }
   ],
   "source": [
    "repo_id = \"dkbirkenberger/url-relevance-classifier\"\n",
    "create_repo(repo_id, private=True, exist_ok=True)  # erstellt Repo, wenn nicht da\n",
    "upload_folder(repo_id=repo_id, folder_path=URL_CHECKPOINT_PATH, commit_message=\"init v0.1.0\")"
   ]
  },
  {
   "cell_type": "code",
   "execution_count": null,
   "id": "91034f22",
   "metadata": {},
   "outputs": [],
   "source": []
  }
 ],
 "metadata": {
  "kernelspec": {
   "display_name": "xai_dashboard (3.12.9)",
   "language": "python",
   "name": "python3"
  },
  "language_info": {
   "codemirror_mode": {
    "name": "ipython",
    "version": 3
   },
   "file_extension": ".py",
   "mimetype": "text/x-python",
   "name": "python",
   "nbconvert_exporter": "python",
   "pygments_lexer": "ipython3",
   "version": "3.12.9"
  }
 },
 "nbformat": 4,
 "nbformat_minor": 5
}
